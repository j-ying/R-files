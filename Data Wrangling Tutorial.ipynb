{
 "cells": [
  {
   "cell_type": "markdown",
   "metadata": {},
   "source": [
    "# Welcome\n",
    "\n",
    "This short tutorial will look at data about the 2016 Colombian peace referendum on voting results and the number of rebel attacks during the height of insurgency in the 2016 Colombian peace referendum. Tasks include summing the totals of certain variables, calculating the means, and plotting histograms and scatter plots to generate bivariate correlations."
   ]
  },
  {
   "cell_type": "markdown",
   "metadata": {},
   "source": [
    "To analyze the effect of voting results and the number of rebel attacks during the height of insurgency, first, calculate the vote share of the NO vote. This is the NO vote share of all ballots cast. Call this variable NO_VS. Second, calculate departmental turnout. This is the sum of all ballots cast divided by the number of registered voters in the municipality. Name this variable DEPT_TO. Report the mean for each variable.\n",
    "\n",
    "Make sure to install and run the required libraries. In this example, **tidyverse** will be used to some data wrangling tasks and **readxl** will help to import the xls data file. Furthermore, make sure to change the file path to where the file is saved before importing."
   ]
  },
  {
   "cell_type": "code",
   "execution_count": 23,
   "metadata": {
    "scrolled": true
   },
   "outputs": [
    {
     "data": {
      "text/plain": [
       "     dept                YES                NO               REG         \n",
       " Length:33          Min.   :    974   Min.   :   1013   Min.   :   4017  \n",
       " Class :character   1st Qu.:  39197   1st Qu.:  36754   1st Qu.: 263184  \n",
       " Mode  :character   Median : 124035   Median : 134604   Median : 760280  \n",
       "                    Mean   : 206962   Mean   : 212674   Mean   :1106022  \n",
       "                    3rd Qu.: 215116   3rd Qu.: 191489   3rd Qu.:1154805  \n",
       "                    Max.   :1423612   Max.   :1114933   Max.   :5547172  \n",
       "    RV_EXPOS          NO_VS           DEPT_TO      \n",
       " Min.   :   0.0   Min.   :0.2024   Min.   :0.1885  \n",
       " 1st Qu.: 133.0   1st Qu.:0.4013   1st Qu.:0.3187  \n",
       " Median : 371.0   Median :0.5563   Median :0.3730  \n",
       " Mean   : 518.5   Mean   :0.5112   Mean   :0.3819  \n",
       " 3rd Qu.: 801.0   3rd Qu.:0.6013   3rd Qu.:0.4067  \n",
       " Max.   :2560.0   Max.   :0.8329   Max.   :0.8055  "
      ]
     },
     "metadata": {},
     "output_type": "display_data"
    },
    {
     "data": {
      "text/html": [
       "0.511158412917396"
      ],
      "text/latex": [
       "0.511158412917396"
      ],
      "text/markdown": [
       "0.511158412917396"
      ],
      "text/plain": [
       "[1] 0.5111584"
      ]
     },
     "metadata": {},
     "output_type": "display_data"
    },
    {
     "data": {
      "text/html": [
       "0.381871996674615"
      ],
      "text/latex": [
       "0.381871996674615"
      ],
      "text/markdown": [
       "0.381871996674615"
      ],
      "text/plain": [
       "[1] 0.381872"
      ]
     },
     "metadata": {},
     "output_type": "display_data"
    }
   ],
   "source": [
    "library(tidyverse)\n",
    "library(readxl)\n",
    "\n",
    "dept_data <- read_xls(\"C:/Users/Jenny/dept_data.xls\") # change file path"
   ]
  },
  {
   "cell_type": "markdown",
   "metadata": {},
   "source": [
    "Now, use **mutate** to create a new column for the NO vote share and the departmental turnout. Name these variables NO_VS and DEPT_TO, respectively."
   ]
  },
  {
   "cell_type": "code",
   "execution_count": null,
   "metadata": {},
   "outputs": [],
   "source": [
    "dept_data_new <- mutate(dept_data,\n",
    "                    \"NO_VS\" = dept_data$NO/(dept_data$YES + dept_data$NO),\n",
    "                    \"DEPT_TO\" = (dept_data$YES + dept_data$NO)/dept_data$REG)\n",
    "\n",
    "summary(dept_data_new)\n",
    "\n",
    "dept_data1 <- dept_data_new %>%\n",
    "  group_by(NO_VS, DEPT_TO) %>%\n",
    "  summarize()\n",
    "\n",
    "mean(dept_data1$NO_VS)\n",
    "mean(dept_data1$DEPT_TO)"
   ]
  },
  {
   "cell_type": "markdown",
   "metadata": {},
   "source": [
    "Plotting a histogram can be useful to visualize share of NO votes within each department. **ggplot** can be a useful too to create and customize the histogram for each variable in which the ggplot syntax allows layering of plots, graphs, or maps."
   ]
  },
  {
   "cell_type": "code",
   "execution_count": 20,
   "metadata": {},
   "outputs": [
    {
     "name": "stderr",
     "output_type": "stream",
     "text": [
      "Warning message:\n",
      "\"Ignoring unknown parameters: binwidth, bins, pad\""
     ]
    },
    {
     "data": {},
     "metadata": {},
     "output_type": "display_data"
    },
    {
     "data": {
      "image/png": "[encoded data removed]",
      "text/plain": [
       "plot without title"
      ]
     },
     "metadata": {},
     "output_type": "display_data"
    }
   ],
   "source": [
    "# Histogram for NO_VS\n",
    "\n",
    "library(ggplot2)\n",
    "\n",
    "ggplot(data=dept_data, aes(x= dept, y= NO_VS)) + \n",
    "  geom_histogram(binwidth = 5, stat = \"identity\") + \n",
    "  labs(title=\"Histogram of NO_VS\", x=\"Department\", y=\"Share of NO Vote\") + \n",
    "  ylim(c(0,1)) +\n",
    "  theme(axis.text.x = element_text(face=\"bold\", size=5, angle=90))"
   ]
  },
  {
   "cell_type": "code",
   "execution_count": 21,
   "metadata": {
    "scrolled": true
   },
   "outputs": [
    {
     "name": "stderr",
     "output_type": "stream",
     "text": [
      "Warning message:\n",
      "\"Ignoring unknown parameters: binwidth, bins, pad\""
     ]
    },
    {
     "data": {},
     "metadata": {},
     "output_type": "display_data"
    },
    {
     "data": {
      "image/png": "[encoded data removed]",
      "text/plain": [
       "plot without title"
      ]
     },
     "metadata": {},
     "output_type": "display_data"
    }
   ],
   "source": [
    "# Histogram for DEPT_TO\n",
    "\n",
    "ggplot(data=dept_data_new, aes(x= dept, y= DEPT_TO)) + \n",
    "  geom_histogram(binwidth = 5, stat = \"identity\") + \n",
    "  labs(title=\"Histogram of DEPT_TO\", x=\"Department\", y=\"Departmental Turnout\") + \n",
    "  ylim(c(0,1)) +\n",
    "  theme(axis.text.x = element_text(face=\"bold\", size=5, angle=90))"
   ]
  },
  {
   "cell_type": "markdown",
   "metadata": {},
   "source": [
    "Now let's look at some correlations with a simple scatter plot analysis. Report the bivariate correlation between NO_VS and the variable measuring exposure to rebel violence during the height of the insurgency (RV_EXPOS). Then report the bivariate correlation between DEPT_TO and RV_EXPOS. Of course regression analysis can be used as well.\n",
    "\n",
    "ggplot can be used again and shows the variability of functions for this command."
   ]
  },
  {
   "cell_type": "code",
   "execution_count": 40,
   "metadata": {},
   "outputs": [
    {
     "data": {},
     "metadata": {},
     "output_type": "display_data"
    },
    {
     "data": {
      "text/plain": [
       "\n",
       "\tPearson's product-moment correlation\n",
       "\n",
       "data:  dept_data_new$NO_VS and dept_data_new$RV_EXPOS\n",
       "t = 0.36633, df = 31, p-value = 0.7166\n",
       "alternative hypothesis: true correlation is not equal to 0\n",
       "95 percent confidence interval:\n",
       " -0.2840580  0.3999479\n",
       "sample estimates:\n",
       "       cor \n",
       "0.06565348 \n"
      ]
     },
     "metadata": {},
     "output_type": "display_data"
    },
    {
     "data": {
      "image/png": "[encoded data removed]",
      "text/plain": [
       "plot without title"
      ]
     },
     "metadata": {},
     "output_type": "display_data"
    }
   ],
   "source": [
    "# Create a scattor plot and generate regression line to compare NO_VS and RV_EXPOS variables\n",
    "\n",
    "ggplot(data=dept_data_new, aes(x= NO_VS, y= RV_EXPOS)) + \n",
    "  geom_point() + \n",
    "  geom_smooth(method = \"lm\", se = F) +\n",
    "  labs(x=\"NO_VS\", y=\"RV_EXPOS\") +\n",
    "  ggtitle(\"Scatter Plot of NO Share of Votes and Rebel Attacks\")\n",
    "\n",
    "cor.test(dept_data_new$NO_VS, dept_data_new$RV_EXPOS,\n",
    "         method = \"pearson\")"
   ]
  },
  {
   "cell_type": "markdown",
   "metadata": {},
   "source": [
    "Repeat the scatter plot analysis for departmental turnout and rebel attacks."
   ]
  },
  {
   "cell_type": "code",
   "execution_count": 41,
   "metadata": {},
   "outputs": [
    {
     "data": {},
     "metadata": {},
     "output_type": "display_data"
    },
    {
     "data": {
      "text/plain": [
       "\n",
       "\tPearson's product-moment correlation\n",
       "\n",
       "data:  dept_data_new$DEPT_TO and dept_data_new$RV_EXPOS\n",
       "t = -0.4989, df = 31, p-value = 0.6214\n",
       "alternative hypothesis: true correlation is not equal to 0\n",
       "95 percent confidence interval:\n",
       " -0.4196972  0.2620919\n",
       "sample estimates:\n",
       "        cor \n",
       "-0.08924748 \n"
      ]
     },
     "metadata": {},
     "output_type": "display_data"
    },
    {
     "data": {
      "image/png": "[encoded data removed]",
      "text/plain": [
       "plot without title"
      ]
     },
     "metadata": {},
     "output_type": "display_data"
    }
   ],
   "source": [
    "# Create scatter plot to compare the correlation between DEPT_TO and RV_EXPOS\n",
    "\n",
    "ggplot(data=dept_data_new, aes(x= NO_VS, y= RV_EXPOS)) + \n",
    "  geom_point() + \n",
    "  geom_smooth(method = \"lm\", se = F) +\n",
    "  labs(x=\"DEPT_TO\", y=\"RV_EXPOS\") + \n",
    "  ggtitle(\"Scatter Plot of Departmental Turnout and Rebel Attacks\")\n",
    "\n",
    "cor.test(dept_data_new$DEPT_TO, dept_data_new$RV_EXPOS,\n",
    "         method = \"pearson\")"
   ]
  }
 ],
 "metadata": {
  "kernelspec": {
   "display_name": "R",
   "language": "R",
   "name": "ir"
  },
  "language_info": {
   "codemirror_mode": "r",
   "file_extension": ".r",
   "mimetype": "text/x-r-source",
   "name": "R",
   "pygments_lexer": "r",
   "version": "3.5.1"
  }
 },
 "nbformat": 4,
 "nbformat_minor": 2
}
